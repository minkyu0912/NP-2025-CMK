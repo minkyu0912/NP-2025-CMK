{
 "cells": [
  {
   "cell_type": "markdown",
   "id": "bf150bf3",
   "metadata": {},
   "source": [
    "# 연습문제 1\n",
    "* * *\n",
    "#### 1. 키보드에서 임의의 두 실수를 입력 받아 곱한 후 그 결과를 출력하는 프로그램을 작성하고 실행하라\n"
   ]
  },
  {
   "cell_type": "code",
   "execution_count": null,
   "id": "aded510a",
   "metadata": {},
   "outputs": [],
   "source": [
    "num1 = float(input(\"첫 번째 실수를 입력: \"))\n",
    "num2 = float(input(\"두 번째 실수를 입력: \"))\n",
    "\n",
    "result = num1 * num2\n",
    "print(\"결과:\", result)"
   ]
  },
  {
   "cell_type": "markdown",
   "id": "ba77945a",
   "metadata": {},
   "source": [
    "* * *\n",
    "#### 2. 1마일은 1.609km이다. 키보드에서 마일(정수)을 입력 받아 km로 변환해 출력하는 프로그램을 작성하고 실행하라"
   ]
  },
  {
   "cell_type": "code",
   "execution_count": null,
   "id": "592d195a",
   "metadata": {},
   "outputs": [],
   "source": [
    "mile = int(input(\"마일을 입력: \"))  \n",
    "\n",
    "km = mile * 1.609  \n",
    "\n",
    "print(f\"{mile}마일은 {km:.3f}km 입니다.\")"
   ]
  },
  {
   "cell_type": "markdown",
   "id": "276c582c",
   "metadata": {},
   "source": [
    "* * *\n",
    "#### 3. 원의 반지름을 입력 받아 원의 둘레와 원의 면적을 출력하는 프로그램을 작성하라"
   ]
  },
  {
   "cell_type": "code",
   "execution_count": null,
   "id": "44251ccd",
   "metadata": {},
   "outputs": [],
   "source": [
    "PI = 3.14\n",
    "\n",
    "r = float(input(\"원의 반지름을 입력하세요: \"))\n",
    "\n",
    "circumference = 2 * PI * r\n",
    "area = PI * r ** 2\n",
    "\n",
    "print(f\"반지름 {r}의 원의 둘레는 {circumference:.2f}\")\n",
    "print(f\"반지름 {r}의 원의 면적은 {area:.2f}\")"
   ]
  }
 ],
 "metadata": {
  "language_info": {
   "name": "python"
  }
 },
 "nbformat": 4,
 "nbformat_minor": 5
}
