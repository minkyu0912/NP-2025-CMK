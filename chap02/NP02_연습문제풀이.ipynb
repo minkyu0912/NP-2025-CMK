{
 "cells": [
  {
   "cell_type": "markdown",
   "id": "bf150bf3",
   "metadata": {},
   "source": [
    "# __연습문제 1__\n",
    "* * *\n",
    "#### __1__. 키보드에서 임의의 두 실수를 입력 받아 곱한 후 그 결과를 출력하는 프로그램을 작성하고 실행하라\n"
   ]
  },
  {
   "cell_type": "code",
   "execution_count": null,
   "id": "aded510a",
   "metadata": {},
   "outputs": [],
   "source": [
    "num1 = float(input(\"첫 번째 실수를 입력: \"))\n",
    "num2 = float(input(\"두 번째 실수를 입력: \"))\n",
    "\n",
    "result = num1 * num2\n",
    "print(\"결과:\", result)"
   ]
  },
  {
   "cell_type": "markdown",
   "id": "ba77945a",
   "metadata": {},
   "source": [
    "* * *\n",
    "#### __2__. 1마일은 1.609km이다. 키보드에서 마일(정수)을 입력 받아 km로 변환해 출력하는 프로그램을 작성하고 실행하라"
   ]
  },
  {
   "cell_type": "code",
   "execution_count": null,
   "id": "592d195a",
   "metadata": {},
   "outputs": [],
   "source": [
    "mile = int(input(\"마일을 입력: \"))  \n",
    "\n",
    "km = mile * 1.609  \n",
    "\n",
    "print(f\"{mile}마일은 {km:.3f}km 입니다.\")"
   ]
  },
  {
   "cell_type": "markdown",
   "id": "276c582c",
   "metadata": {},
   "source": [
    "* * *\n",
    "#### __3__. 원의 반지름을 입력 받아 원의 둘레와 원의 면적을 출력하는 프로그램을 작성하라"
   ]
  },
  {
   "cell_type": "code",
   "execution_count": null,
   "id": "44251ccd",
   "metadata": {},
   "outputs": [],
   "source": [
    "PI = 3.14\n",
    "\n",
    "r = float(input(\"원의 반지름을 입력하세요: \"))\n",
    "\n",
    "circumference = 2 * PI * r\n",
    "area = PI * r ** 2\n",
    "\n",
    "print(f\"반지름 {r}의 원의 둘레는 {circumference:.2f}\")\n",
    "print(f\"반지름 {r}의 원의 면적은 {area:.2f}\")"
   ]
  },
  {
   "cell_type": "markdown",
   "id": "9c95bcc7",
   "metadata": {},
   "source": [
    "* * *\n",
    "* * *\n",
    "* * *\n",
    "\n"
   ]
  },
  {
   "cell_type": "markdown",
   "id": "e2dfc6d1",
   "metadata": {},
   "source": [
    "# __연습문제 2__\n",
    "* * *\n",
    "#### __1__. 초를 입력하면 분과 초로 표시하는 프로그램. 예를 들어, 200초를 입력하면 3분 20초로 표현하라"
   ]
  },
  {
   "cell_type": "code",
   "execution_count": null,
   "id": "1394441b",
   "metadata": {},
   "outputs": [],
   "source": [
    "total_seconds = int(input(\"초를 입력하세요: \"))\n",
    "\n",
    "minutes = total_seconds // 60 \n",
    "seconds = total_seconds % 60   \n",
    "\n",
    "print(f\"{total_seconds}초는 {minutes}분 {seconds}초 입니다.\")"
   ]
  },
  {
   "cell_type": "markdown",
   "id": "dcc4906c",
   "metadata": {},
   "source": [
    "* * *\n",
    "#### __2__. 분(min)을 입력 하면, 일, 시간, 분으로 출력하는 프로그램을 만들어라. (예: 1550분은 1일 1시간 50분)"
   ]
  },
  {
   "cell_type": "code",
   "execution_count": null,
   "id": "d95016b1",
   "metadata": {},
   "outputs": [],
   "source": [
    "total_minutes = int(input(\"분을 입력하세요: \"))\n",
    "\n",
    "days = total_minutes // 1440                  # 1일 = 1440분\n",
    "remain_minutes = total_minutes % 1440\n",
    "\n",
    "hours = remain_minutes // 60 \n",
    "minutes = remain_minutes % 60        \n",
    "\n",
    "print(f\"{total_minutes}분은 {days}일 {hours}시간 {minutes}분 입니다.\")"
   ]
  },
  {
   "cell_type": "markdown",
   "id": "1f1527f7",
   "metadata": {},
   "source": [
    "* * *\n",
    "#### __3__. 500만원을 년이율 5%로 복리 저금했을때 5년 후의 원리금의 합계를 출력하는 프로그램"
   ]
  },
  {
   "cell_type": "code",
   "execution_count": null,
   "id": "b91621b7",
   "metadata": {},
   "outputs": [],
   "source": [
    "principal = 5000000     \n",
    "rate = 0.05             \n",
    "years = 5                 \n",
    "\n",
    "total_amount = principal * (1 + rate) ** years\n",
    "\n",
    "print(f\"{years}년 후 원리금 합계는 {int(total_amount)}원 입니다.\")"
   ]
  },
  {
   "cell_type": "markdown",
   "id": "bd08939f",
   "metadata": {},
   "source": [
    "* * *\n",
    "#### __4__. 1부터 n까지의 합은 n(n+1)/2로 주어진다. 1부터 100까지의 합을 구하여 출력하는 프로그램을 작성하고 실행하라"
   ]
  },
  {
   "cell_type": "code",
   "execution_count": null,
   "id": "1b441320",
   "metadata": {},
   "outputs": [],
   "source": [
    "n = 100\n",
    "\n",
    "total = n * (n + 1) // 2 \n",
    "\n",
    "print(f\"1부터 {n}까지의 합은 {total} 입니다.\")"
   ]
  },
  {
   "cell_type": "markdown",
   "id": "0f0d74f4",
   "metadata": {},
   "source": [
    "* * *\n",
    "#### __5__. 판매자가 딸기와 포도를 판매하고 있다. 포도 한 알의 무게는 75g이고 딸기 한 알의 무게는 113.5g이다. 사용자로부터  포도 알의 개수와 딸기의 개수를 입력 받아 총 무게를 계산하여 출력하는 프로그램을 작성하고 실행하라."
   ]
  },
  {
   "cell_type": "code",
   "execution_count": null,
   "id": "1acacd3a",
   "metadata": {},
   "outputs": [],
   "source": [
    "grape_weight = 75     \n",
    "strawberry_weight = 113.5 \n",
    "\n",
    "grape_count = int(input(\"포도 알 개수를 입력하세요: \"))\n",
    "strawberry_count = int(input(\"딸기 개수를 입력하세요: \"))\n",
    "\n",
    "total_weight = grape_count * grape_weight + strawberry_count * strawberry_weight\n",
    "\n",
    "print(f\"총 무게는 {total_weight}g 입니다.\")"
   ]
  }
 ],
 "metadata": {
  "language_info": {
   "name": "python"
  }
 },
 "nbformat": 4,
 "nbformat_minor": 5
}
