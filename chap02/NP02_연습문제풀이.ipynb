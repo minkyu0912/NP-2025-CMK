{
 "cells": [
  {
   "cell_type": "markdown",
   "id": "bf150bf3",
   "metadata": {},
   "source": [
    "__연습문제 1__\n",
    "=============\n",
    "* * *\n",
    "#### __1__. 키보드에서 임의의 두 실수를 입력 받아 곱한 후 그 결과를 출력하는 프로그램을 작성하고 실행하라\n"
   ]
  },
  {
   "cell_type": "code",
   "execution_count": null,
   "id": "aded510a",
   "metadata": {},
   "outputs": [],
   "source": [
    "num1 = float(input(\"첫 번째 실수를 입력: \"))\n",
    "num2 = float(input(\"두 번째 실수를 입력: \"))\n",
    "\n",
    "result = num1 * num2\n",
    "print(\"결과:\", result)"
   ]
  },
  {
   "cell_type": "markdown",
   "id": "ba77945a",
   "metadata": {},
   "source": [
    "* * *\n",
    "#### __2__. 1마일은 1.609km이다. 키보드에서 마일(정수)을 입력 받아 km로 변환해 출력하는 프로그램을 작성하고 실행하라"
   ]
  },
  {
   "cell_type": "code",
   "execution_count": null,
   "id": "592d195a",
   "metadata": {},
   "outputs": [],
   "source": [
    "mile = int(input(\"마일을 입력: \"))  \n",
    "\n",
    "km = mile * 1.609  \n",
    "\n",
    "print(f\"{mile}마일은 {km:.3f}km 입니다.\")"
   ]
  },
  {
   "cell_type": "markdown",
   "id": "276c582c",
   "metadata": {},
   "source": [
    "* * *\n",
    "#### __3__. 원의 반지름을 입력 받아 원의 둘레와 원의 면적을 출력하는 프로그램을 작성하라"
   ]
  },
  {
   "cell_type": "code",
   "execution_count": null,
   "id": "44251ccd",
   "metadata": {},
   "outputs": [],
   "source": [
    "PI = 3.14\n",
    "\n",
    "r = float(input(\"원의 반지름을 입력하세요: \"))\n",
    "\n",
    "circumference = 2 * PI * r\n",
    "area = PI * r ** 2\n",
    "\n",
    "print(f\"반지름 {r}의 원의 둘레는 {circumference:.2f}\")\n",
    "print(f\"반지름 {r}의 원의 면적은 {area:.2f}\")"
   ]
  },
  {
   "cell_type": "markdown",
   "id": "7bd310e7",
   "metadata": {},
   "source": [
    "* * *\n",
    "* * *\n",
    "__산술 및 관계 연산자 연습문제__\n",
    "============="
   ]
  },
  {
   "cell_type": "markdown",
   "id": "143a42fb",
   "metadata": {},
   "source": [
    "* * *\n",
    "#### 1. 5와3을더한값을출력하는프로그램을작성하라"
   ]
  },
  {
   "cell_type": "code",
   "execution_count": null,
   "id": "e56fe33c",
   "metadata": {},
   "outputs": [
    {
     "name": "stdout",
     "output_type": "stream",
     "text": [
      "8\n"
     ]
    }
   ],
   "source": [
    "print(5 + 3)"
   ]
  },
  {
   "cell_type": "markdown",
   "id": "5d8573d7",
   "metadata": {},
   "source": [
    "* * * \n",
    "#### 2. 7에서3을뺀값을출력하는프로그램을작성하라"
   ]
  },
  {
   "cell_type": "code",
   "execution_count": null,
   "id": "e3b6ccca",
   "metadata": {},
   "outputs": [
    {
     "name": "stdout",
     "output_type": "stream",
     "text": [
      "4\n"
     ]
    }
   ],
   "source": [
    "print(7 - 3)"
   ]
  },
  {
   "cell_type": "markdown",
   "id": "a5f9e299",
   "metadata": {},
   "source": [
    "* * * \n",
    "####  3. 4를 2로 나눈 값을 출력하는 프로그램을 작성하라"
   ]
  },
  {
   "cell_type": "code",
   "execution_count": null,
   "id": "d22a8e9d",
   "metadata": {},
   "outputs": [
    {
     "name": "stdout",
     "output_type": "stream",
     "text": [
      "2.0\n"
     ]
    }
   ],
   "source": [
    "print(4 / 2)"
   ]
  },
  {
   "cell_type": "markdown",
   "id": "097685e8",
   "metadata": {},
   "source": [
    "* * * \n",
    "#### 4. 8을 3으로 나눈 몫과 나머지를 출력하는 프로그램을 작성하라"
   ]
  },
  {
   "cell_type": "code",
   "execution_count": null,
   "id": "39fd0942",
   "metadata": {},
   "outputs": [
    {
     "name": "stdout",
     "output_type": "stream",
     "text": [
      "2 2\n"
     ]
    }
   ],
   "source": [
    "print(8 // 3, 8 % 3)"
   ]
  },
  {
   "cell_type": "markdown",
   "id": "67ac49c9",
   "metadata": {},
   "source": [
    "* * * \n",
    "####  5. 2의 5제곱을 출력하는 프로그램을 작성하라"
   ]
  },
  {
   "cell_type": "code",
   "execution_count": null,
   "id": "afd3c06b",
   "metadata": {},
   "outputs": [
    {
     "name": "stdout",
     "output_type": "stream",
     "text": [
      "32\n"
     ]
    }
   ],
   "source": [
    "print(2 ** 5)"
   ]
  },
  {
   "cell_type": "markdown",
   "id": "cd95d9ca",
   "metadata": {},
   "source": [
    "* * * \n",
    "####  6. 입력된 정수가 10보다 크고 20보다 작은지 검사하는 프로그램을 작성하라"
   ]
  },
  {
   "cell_type": "code",
   "execution_count": null,
   "id": "9137c352",
   "metadata": {},
   "outputs": [
    {
     "name": "stdout",
     "output_type": "stream",
     "text": [
      "입력한 값은 10보다 크고 20보다 작지 않습니다.\n"
     ]
    }
   ],
   "source": [
    "num = int(input(\"정수를 입력하세요: \"))\n",
    "if 10 < num < 20:\n",
    "    print(\"입력한 값은 10보다 크고 20보다 작습니다.\")\n",
    "else:\n",
    "    print(\"입력한 값은 10보다 크고 20보다 작지 않습니다.\")\n"
   ]
  },
  {
   "cell_type": "markdown",
   "id": "cc100f94",
   "metadata": {},
   "source": [
    "* * * \n",
    "#### 7. 문자열 \"hello\"와 문자열 \"world\"를 이어 붙인 결과를 출력하는 프로그램을 작성하라"
   ]
  },
  {
   "cell_type": "code",
   "execution_count": null,
   "id": "aeb4a0be",
   "metadata": {},
   "outputs": [
    {
     "name": "stdout",
     "output_type": "stream",
     "text": [
      "helloworld\n"
     ]
    }
   ],
   "source": [
    "print(\"hello\" + \"world\")\n"
   ]
  },
  {
   "cell_type": "markdown",
   "id": "0804dada",
   "metadata": {},
   "source": [
    "* * * \n",
    "#### 8. 7을 2로 나눈 결과가 3보다 작은지 검사하는 프로그램을 작성하라"
   ]
  },
  {
   "cell_type": "code",
   "execution_count": null,
   "id": "40ee2239",
   "metadata": {},
   "outputs": [
    {
     "name": "stdout",
     "output_type": "stream",
     "text": [
      "7을 2로 나눈 결과가 3보다 크거나 같습니다.\n"
     ]
    }
   ],
   "source": [
    "if (7 / 2) < 3:\n",
    "    print(\"7을 2로 나눈 결과가 3보다 작습니다.\")\n",
    "else:\n",
    "    print(\"7을 2로 나눈 결과가 3보다 크거나 같습니다.\")"
   ]
  },
  {
   "cell_type": "markdown",
   "id": "88022c64",
   "metadata": {},
   "source": [
    "* * * \n",
    "#### 9. 변수 x의 값이 5와 같지 않은지 검사하는 프로그램을 작성하라"
   ]
  },
  {
   "cell_type": "code",
   "execution_count": null,
   "id": "897cdbfc",
   "metadata": {},
   "outputs": [
    {
     "name": "stdout",
     "output_type": "stream",
     "text": [
      "x는 5와 같지 않습니다.\n"
     ]
    }
   ],
   "source": [
    "x = int(input(\"x 값을 입력하세요: \"))\n",
    "if x != 5:\n",
    "    print(\"x는 5와 같지 않습니다.\")\n",
    "else:\n",
    "    print(\"x는 5와 같습니다.\")"
   ]
  },
  {
   "cell_type": "markdown",
   "id": "7aaff005",
   "metadata": {},
   "source": [
    "* * * \n",
    "#### 10.변수 y의 값이 10에서 20 사이의 값인지 검사하는 프로그램을 작성하라"
   ]
  },
  {
   "cell_type": "code",
   "execution_count": null,
   "id": "85521b60",
   "metadata": {},
   "outputs": [
    {
     "name": "stdout",
     "output_type": "stream",
     "text": [
      "y는 10 이상 20 이하가 아닙니다.\n"
     ]
    }
   ],
   "source": [
    "y = int(input(\"y 값을 입력하세요: \"))\n",
    "if 10 <= y <= 20:\n",
    "    print(\"y는 10 이상 20 이하입니다.\")\n",
    "else:\n",
    "    print(\"y는 10 이상 20 이하가 아닙니다.\")"
   ]
  },
  {
   "cell_type": "markdown",
   "id": "9ebab0b8",
   "metadata": {},
   "source": [
    "* * *\n",
    "* * *\n",
    "__논리 연산자 연습문제__\n",
    "============="
   ]
  },
  {
   "cell_type": "markdown",
   "id": "c4876d5b",
   "metadata": {},
   "source": [
    "* * *\n",
    "#### 1. 5가 3보다 크고 7보다 작은지 검사하는 프로그램을 작성하라."
   ]
  },
  {
   "cell_type": "code",
   "execution_count": null,
   "id": "39680ca0",
   "metadata": {},
   "outputs": [],
   "source": [
    "if 3 < 5 < 7:\n",
    "    print(\"5는 3보다 크고 7보다 작습니다.\")\n",
    "else:\n",
    "    print(\"5는 3보다 크고 7보다 작지 않습니다.\")"
   ]
  },
  {
   "cell_type": "markdown",
   "id": "d61ab416",
   "metadata": {},
   "source": [
    "* * *\n",
    "#### 2. 변수x가 10 이상이고 20 이하인지 검사하는 프로그램을 작성하라."
   ]
  },
  {
   "cell_type": "code",
   "execution_count": null,
   "id": "848e562b",
   "metadata": {},
   "outputs": [],
   "source": [
    "if 3 < 5 < 7:\n",
    "    print(\"5는 3보다 크고 7보다 작습니다.\")\n",
    "else:\n",
    "    print(\"5는 3보다 크고 7보다 작지 않습니다.\")"
   ]
  },
  {
   "cell_type": "markdown",
   "id": "16ad2ae6",
   "metadata": {},
   "source": [
    "* * *\n",
    "#### 3. 변수 y가 5의 배수이거나 7의 배수인지 검사하는 프로그램을 작성하라."
   ]
  },
  {
   "cell_type": "code",
   "execution_count": null,
   "id": "291d912e",
   "metadata": {},
   "outputs": [],
   "source": [
    "y = int(input(\"y 값을 입력하세요: \"))\n",
    "if (y % 5 == 0) or (y % 7 == 0):\n",
    "    print(\"y는 5의 배수이거나 7의 배수입니다.\")\n",
    "else:\n",
    "    print(\"y는 5의 배수도 아니고 7의 배수도 아닙니다.\")"
   ]
  },
  {
   "cell_type": "markdown",
   "id": "d859eb53",
   "metadata": {},
   "source": [
    "* * *\n",
    "#### 4. 변수 z가 양수이면서 짝수인지 검사하는 프로그램을 작성하라."
   ]
  },
  {
   "cell_type": "code",
   "execution_count": null,
   "id": "25cc01fd",
   "metadata": {},
   "outputs": [],
   "source": [
    "z = int(input(\"z 값을 입력하세요: \"))\n",
    "if (z > 0) and (z % 2 == 0):\n",
    "    print(\"z는 양수이면서 짝수입니다.\")\n",
    "else:\n",
    "    print(\"z는 양수이면서 짝수가 아닙니다.\")"
   ]
  },
  {
   "cell_type": "markdown",
   "id": "0401468c",
   "metadata": {},
   "source": [
    "* * *\n",
    "#### 5. 변수 a가 문자열 \"hello\"나 문자열 \"world\" 중 하나인지 검사하는 프로그램을 작성하라."
   ]
  },
  {
   "cell_type": "code",
   "execution_count": null,
   "id": "15bce302",
   "metadata": {},
   "outputs": [],
   "source": [
    "a = input('a 값을 입력하세요: ')\n",
    "if a == \"hello\" or a == \"world\":\n",
    "    print('a는 \"hello\" 또는 \"world\"입니다.')\n",
    "else:\n",
    "    print('a는 \"hello\"나 \"world\"가 아닙니다.')"
   ]
  },
  {
   "cell_type": "markdown",
   "id": "d3efd03a",
   "metadata": {},
   "source": [
    "* * *\n",
    "* * *\n",
    "__멤버 연산자 연습문제__\n",
    "============="
   ]
  },
  {
   "cell_type": "markdown",
   "id": "5e8835b0",
   "metadata": {},
   "source": [
    "* * *\n",
    "#### 1. 숫자 7이 리스트[1, 2, 3, 4, 5]에 포함되어 있는지 검사하는 프로그램을 작성하라."
   ]
  },
  {
   "cell_type": "code",
   "execution_count": null,
   "id": "ee3faca0",
   "metadata": {},
   "outputs": [],
   "source": [
    "nums = [1, 2, 3, 4, 5]\n",
    "if 7 in nums:\n",
    "    print(\"7은 리스트에 포함되어 있습니다.\")\n",
    "else:\n",
    "    print(\"7은 리스트에 포함되어 있지 않습니다.\")"
   ]
  },
  {
   "cell_type": "markdown",
   "id": "689a750a",
   "metadata": {},
   "source": [
    "* * *\n",
    "#### 2. 문자열 \"apple\"이 세트{\"orange\", \"banana\", \"kiwi\"}에 포함되어 있는지 검사하는 프로"
   ]
  },
  {
   "cell_type": "code",
   "execution_count": null,
   "id": "e410869b",
   "metadata": {},
   "outputs": [],
   "source": [
    "fruits = {\"orange\", \"banana\", \"kiwi\"}\n",
    "if \"apple\" in fruits:\n",
    "    print('\"apple\"은 세트에 포함되어 있습니다.')\n",
    "else:\n",
    "    print('\"apple\"은 세트에 포함되어 있지 않습니다.')"
   ]
  },
  {
   "cell_type": "markdown",
   "id": "8417e5bd",
   "metadata": {},
   "source": [
    "* * *\n",
    "#### 3. 숫자 6이 딕셔너리{\"a\": 1, \"b\": 2, \"c\": 3, \"d\": 4}의 값들 중 하나인지 검사하는 프로그램을 작성하라."
   ]
  },
  {
   "cell_type": "code",
   "execution_count": null,
   "id": "0737cbc7",
   "metadata": {},
   "outputs": [],
   "source": [
    "dic = {\"a\": 1, \"b\": 2, \"c\": 3, \"d\": 4}\n",
    "if 6 in dic.values():\n",
    "    print(\"6은 딕셔너리의 값에 포함되어 있습니다.\")\n",
    "else:\n",
    "    print(\"6은 딕셔너리의 값에 포함되어 있지 않습니다.\")"
   ]
  },
  {
   "cell_type": "markdown",
   "id": "daac5239",
   "metadata": {},
   "source": [
    "* * *\n",
    "#### 4. 문자열 \"cat\"이 튜플(\"dog\", \"cat\", \"bird\", \"hamster\")에 포함되어 있는지 검사하는 프로그램을 작성하라."
   ]
  },
  {
   "cell_type": "code",
   "execution_count": null,
   "id": "8a430101",
   "metadata": {},
   "outputs": [],
   "source": [
    "animals = (\"dog\", \"cat\", \"bird\", \"hamster\")\n",
    "if \"cat\" in animals:\n",
    "    print('\"cat\"은 튜플에 포함되어 있습니다.')\n",
    "else:\n",
    "    print('\"cat\"은 튜플에 포함되어 있지 않습니다.')"
   ]
  },
  {
   "cell_type": "markdown",
   "id": "d87de1d3",
   "metadata": {},
   "source": [
    "* * *\n",
    "#### 5. 숫자 10이 세트{2, 4, 6, 8, 10}에 포함되어 있는지 검사하는 프로그램을 작성하라."
   ]
  },
  {
   "cell_type": "code",
   "execution_count": null,
   "id": "3a94d8e5",
   "metadata": {},
   "outputs": [],
   "source": [
    "numbers = {2, 4, 6, 8, 10}\n",
    "if 10 in numbers:\n",
    "    print(\"10은 세트에 포함되어 있습니다.\")\n",
    "else:\n",
    "    print(\"10은 세트에 포함되어 있지 않습니다.\")"
   ]
  },
  {
   "cell_type": "markdown",
   "id": "e2dfc6d1",
   "metadata": {},
   "source": [
    "* * *\n",
    "* * *\n",
    "__연습문제 2__\n",
    "=============\n",
    "* * *\n",
    "#### __1__. 초를 입력하면 분과 초로 표시하는 프로그램. 예를 들어, 200초를 입력하면 3분 20초로 표현하라"
   ]
  },
  {
   "cell_type": "code",
   "execution_count": null,
   "id": "1394441b",
   "metadata": {},
   "outputs": [],
   "source": [
    "total_seconds = int(input(\"초를 입력하세요: \"))\n",
    "\n",
    "minutes = total_seconds // 60 \n",
    "seconds = total_seconds % 60   \n",
    "\n",
    "print(f\"{total_seconds}초는 {minutes}분 {seconds}초 입니다.\")"
   ]
  },
  {
   "cell_type": "markdown",
   "id": "dcc4906c",
   "metadata": {},
   "source": [
    "* * *\n",
    "#### __2__. 분(min)을 입력 하면, 일, 시간, 분으로 출력하는 프로그램을 만들어라. (예: 1550분은 1일 1시간 50분)"
   ]
  },
  {
   "cell_type": "code",
   "execution_count": null,
   "id": "d95016b1",
   "metadata": {},
   "outputs": [],
   "source": [
    "total_minutes = int(input(\"분을 입력하세요: \"))\n",
    "\n",
    "days = total_minutes // 1440                  # 1일 = 1440분\n",
    "remain_minutes = total_minutes % 1440\n",
    "\n",
    "hours = remain_minutes // 60 \n",
    "minutes = remain_minutes % 60        \n",
    "\n",
    "print(f\"{total_minutes}분은 {days}일 {hours}시간 {minutes}분 입니다.\")"
   ]
  },
  {
   "cell_type": "markdown",
   "id": "1f1527f7",
   "metadata": {},
   "source": [
    "* * *\n",
    "#### __3__. 500만원을 년이율 5%로 복리 저금했을때 5년 후의 원리금의 합계를 출력하는 프로그램"
   ]
  },
  {
   "cell_type": "code",
   "execution_count": null,
   "id": "b91621b7",
   "metadata": {},
   "outputs": [],
   "source": [
    "principal = 5000000     \n",
    "rate = 0.05             \n",
    "years = 5                 \n",
    "\n",
    "total_amount = principal * (1 + rate) ** years\n",
    "\n",
    "print(f\"{years}년 후 원리금 합계는 {int(total_amount)}원 입니다.\")"
   ]
  },
  {
   "cell_type": "markdown",
   "id": "bd08939f",
   "metadata": {},
   "source": [
    "* * *\n",
    "#### __4__. 1부터 n까지의 합은 n(n+1)/2로 주어진다. 1부터 100까지의 합을 구하여 출력하는 프로그램을 작성하고 실행하라"
   ]
  },
  {
   "cell_type": "code",
   "execution_count": null,
   "id": "1b441320",
   "metadata": {},
   "outputs": [],
   "source": [
    "n = 100\n",
    "\n",
    "total = n * (n + 1) // 2 \n",
    "\n",
    "print(f\"1부터 {n}까지의 합은 {total} 입니다.\")"
   ]
  },
  {
   "cell_type": "markdown",
   "id": "0f0d74f4",
   "metadata": {},
   "source": [
    "* * *\n",
    "#### __5__. 판매자가 딸기와 포도를 판매하고 있다. 포도 한 알의 무게는 75g이고 딸기 한 알의 무게는 113.5g이다. 사용자로부터  포도 알의 개수와 딸기의 개수를 입력 받아 총 무게를 계산하여 출력하는 프로그램을 작성하고 실행하라."
   ]
  },
  {
   "cell_type": "code",
   "execution_count": null,
   "id": "1acacd3a",
   "metadata": {},
   "outputs": [],
   "source": [
    "grape_weight = 75     \n",
    "strawberry_weight = 113.5 \n",
    "\n",
    "grape_count = int(input(\"포도 알 개수를 입력하세요: \"))\n",
    "strawberry_count = int(input(\"딸기 개수를 입력하세요: \"))\n",
    "\n",
    "total_weight = grape_count * grape_weight + strawberry_count * strawberry_weight\n",
    "\n",
    "print(f\"총 무게는 {total_weight}g 입니다.\")"
   ]
  }
 ],
 "metadata": {
  "kernelspec": {
   "display_name": "base",
   "language": "python",
   "name": "python3"
  },
  "language_info": {
   "codemirror_mode": {
    "name": "ipython",
    "version": 3
   },
   "file_extension": ".py",
   "mimetype": "text/x-python",
   "name": "python",
   "nbconvert_exporter": "python",
   "pygments_lexer": "ipython3",
   "version": "3.13.5"
  }
 },
 "nbformat": 4,
 "nbformat_minor": 5
}
