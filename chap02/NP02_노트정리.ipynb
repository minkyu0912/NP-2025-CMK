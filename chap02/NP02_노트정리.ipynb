{
 "cells": [
  {
   "cell_type": "markdown",
   "id": "0e59e5c5",
   "metadata": {},
   "source": [
    "## 기본 입출력 함수\n",
    "1. __print()__      \n",
    "    출력\n",
    "2. __input()__  \n",
    "    입력\n",
    "\n"
   ]
  },
  {
   "cell_type": "markdown",
   "id": "d13635c4",
   "metadata": {},
   "source": [
    "* * *\n",
    "## __기본 자료형__\n",
    "1. __부울형__\n",
    "    <br>참(True) 또는 거짓(False) 중 하나의 값을 갖는 자료형(True, False)\n",
    "\n",
    "2. __정수형__\n",
    "    <br>소수점 없는 숫자 표현\n",
    "\n",
    "3. __실수형__\n",
    "\n",
    "4. __문자열__\n",
    "    <br>나열된문자들\n",
    "    <br>' ' 또는 \" \"로둘러쌈\n",
    "   "
   ]
  },
  {
   "cell_type": "markdown",
   "id": "6cb8762b",
   "metadata": {},
   "source": [
    "연산자\n",
    "=============\n",
    "1. __지정연산자__\n",
    "      <br>• =\n",
    "\n",
    "2. __산술연산자__\n",
    "      <br>• 사칙연산자: +, -, *, /\n",
    "      <br>• 정수나눗셈: //\n",
    "      <br>• 나머지연산: %\n",
    "\n",
    "3. __논리연산자__\n",
    "       <br>• 논리곱(and), 논리합(or), 논리부정(not)\n",
    "       <br>• 논리연산의 대상은 True 또는False. 결과도 True 또는 False\n",
    "\n",
    "4. __관계연산자__\n",
    "       <br>• 비교연산자\n",
    "       <br>• 항의 대소관계 또는 동등관계 판정\n",
    "       <br>• 연산결과는 True(참) 또는 False(거짓)\n",
    "\n",
    "5. __멤버연산자__\n",
    "       <br>• in\n",
    "       <br>• 특정문자열 또는 값이 문자열 또는 리스트(반복객체)에 속해 있는지 판별하는 연산자\n",
    "\n",
    "6. __식별연산자__\n",
    "       <br>• is : 양쪽 변수의 주소가 같은지 판단. if id(a) == id(b)\n",
    "       <br>• is not : 양쪽 변수의 주소가 다른지 판단. if id(a) != id(b)\n",
    "\n",
    "7. __연산오류__\n",
    "       <br>• 연산할 수 없는 자료형을 연산하면 타입 에러 발생"
   ]
  }
 ],
 "metadata": {
  "kernelspec": {
   "display_name": "base",
   "language": "python",
   "name": "python3"
  },
  "language_info": {
   "codemirror_mode": {
    "name": "ipython",
    "version": 3
   },
   "file_extension": ".py",
   "mimetype": "text/x-python",
   "name": "python",
   "nbconvert_exporter": "python",
   "pygments_lexer": "ipython3",
   "version": "3.13.5"
  }
 },
 "nbformat": 4,
 "nbformat_minor": 5
}
