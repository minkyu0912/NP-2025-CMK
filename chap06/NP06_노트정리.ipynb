{
 "cells": [
  {
   "cell_type": "code",
   "execution_count": null,
   "id": "455f8904",
   "metadata": {},
   "outputs": [
    {
     "ename": "TypeError",
     "evalue": "Can't instantiate abstract class Animal without an implementation for abstract method 'sound'",
     "output_type": "error",
     "traceback": [
      "\u001b[1;31m---------------------------------------------------------------------------\u001b[0m",
      "\u001b[1;31mTypeError\u001b[0m                                 Traceback (most recent call last)",
      "Cell \u001b[1;32mIn[1], line 10\u001b[0m\n\u001b[0;32m      7\u001b[0m   \u001b[38;5;28;01mdef\u001b[39;00m\u001b[38;5;250m \u001b[39m\u001b[38;5;21msound\u001b[39m(\u001b[38;5;28mself\u001b[39m):\n\u001b[0;32m      8\u001b[0m     \u001b[38;5;28;01mreturn\u001b[39;00m \u001b[38;5;124m\"\u001b[39m\u001b[38;5;124m멍멍\u001b[39m\u001b[38;5;124m\"\u001b[39m\n\u001b[1;32m---> 10\u001b[0m a \u001b[38;5;241m=\u001b[39m Animal() \u001b[38;5;66;03m# 에러: 추상클래스는인스턴스화불가\u001b[39;00m\n\u001b[0;32m     11\u001b[0m d \u001b[38;5;241m=\u001b[39m Dog()\n\u001b[0;32m     16\u001b[0m \u001b[38;5;28mprint\u001b[39m(d\u001b[38;5;241m.\u001b[39msound())\n",
      "\u001b[1;31mTypeError\u001b[0m: Can't instantiate abstract class Animal without an implementation for abstract method 'sound'"
     ]
    }
   ],
   "source": [
    "from abc import ABC, abstractmethod\n",
    "class Animal(ABC):\n",
    "  @abstractmethod\n",
    "  def sound(self):\n",
    "    pass\n",
    "class Dog(Animal):\n",
    "  def sound(self):\n",
    "    return \"멍멍\"\n",
    "\n",
    "## a = Animal() # 에러: 추상클래스는인스턴스화불가\n",
    "d = Dog()\n",
    "\n",
    "\n",
    "print(d.sound()) # \"멍멍"
   ]
  },
  {
   "cell_type": "code",
   "execution_count": null,
   "id": "f6e5ee4b",
   "metadata": {},
   "outputs": [],
   "source": [
    "from abc import ABC, abstractmethod\n",
    "\n",
    "class Animal(ABC):\n",
    "    \n",
    "  animal_count = 0  # 클래스 변수\n",
    "  @abstractmethod\n",
    "  \n",
    "  def sound(self):\n",
    "    pass\n",
    "    \n",
    "    \n"
   ]
  }
 ],
 "metadata": {
  "kernelspec": {
   "display_name": "base",
   "language": "python",
   "name": "python3"
  },
  "language_info": {
   "codemirror_mode": {
    "name": "ipython",
    "version": 3
   },
   "file_extension": ".py",
   "mimetype": "text/x-python",
   "name": "python",
   "nbconvert_exporter": "python",
   "pygments_lexer": "ipython3",
   "version": "3.13.5"
  }
 },
 "nbformat": 4,
 "nbformat_minor": 5
}
