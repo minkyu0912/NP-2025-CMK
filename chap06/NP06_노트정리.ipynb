{
 "cells": [
  {
   "cell_type": "code",
   "execution_count": null,
   "id": "455f8904",
   "metadata": {},
   "outputs": [
    {
     "ename": "TypeError",
     "evalue": "Can't instantiate abstract class Animal without an implementation for abstract method 'sound'",
     "output_type": "error",
     "traceback": [
      "\u001b[1;31m---------------------------------------------------------------------------\u001b[0m",
      "\u001b[1;31mTypeError\u001b[0m                                 Traceback (most recent call last)",
      "Cell \u001b[1;32mIn[1], line 10\u001b[0m\n\u001b[0;32m      7\u001b[0m   \u001b[38;5;28;01mdef\u001b[39;00m\u001b[38;5;250m \u001b[39m\u001b[38;5;21msound\u001b[39m(\u001b[38;5;28mself\u001b[39m):\n\u001b[0;32m      8\u001b[0m     \u001b[38;5;28;01mreturn\u001b[39;00m \u001b[38;5;124m\"\u001b[39m\u001b[38;5;124m멍멍\u001b[39m\u001b[38;5;124m\"\u001b[39m\n\u001b[1;32m---> 10\u001b[0m a \u001b[38;5;241m=\u001b[39m Animal() \u001b[38;5;66;03m# 에러: 추상클래스는인스턴스화불가\u001b[39;00m\n\u001b[0;32m     11\u001b[0m d \u001b[38;5;241m=\u001b[39m Dog()\n\u001b[0;32m     16\u001b[0m \u001b[38;5;28mprint\u001b[39m(d\u001b[38;5;241m.\u001b[39msound())\n",
      "\u001b[1;31mTypeError\u001b[0m: Can't instantiate abstract class Animal without an implementation for abstract method 'sound'"
     ]
    }
   ],
   "source": [
    "from abc import ABC, abstractmethod\n",
    "class Animal(ABC):\n",
    "  @abstractmethod\n",
    "  def sound(self):\n",
    "    pass\n",
    "class Dog(Animal):\n",
    "  def sound(self):\n",
    "    return \"멍멍\"\n",
    "\n",
    "## a = Animal() # 에러: 추상클래스는인스턴스화불가\n",
    "d = Dog()\n",
    "\n",
    "\n",
    "print(d.sound()) # \"멍멍"
   ]
  },
  {
   "cell_type": "code",
   "execution_count": null,
   "id": "f6e5ee4b",
   "metadata": {},
   "outputs": [],
   "source": [
    "from abc import ABC, abstractmethod\n",
    "\n",
    "class Animal(ABC):\n",
    "    \n",
    "  animal_count = 0  # 클래스 변수\n",
    "  @abstractmethod\n",
    "  \n",
    "  def sound(self):\n",
    "    pass\n",
    "    "
   ]
  },
  {
   "cell_type": "markdown",
   "id": "613c2e21",
   "metadata": {},
   "source": [
    "## 1. 객체지향 프로그래밍 기초\n",
    "\n",
    "* **객체지향 프로그램(OOP)**: 객체(object)의 속성(변수)과 동작(함수)을 나타내는 클래스를 정의하고, 이로부터 객체를 생성(인스턴스화; Instantiation)하여 작성한 프로그램입니다.\n",
    "* **클래스와 객체 관계**: 클래스는 '풀빵틀', 객체는 '풀빵'의 관계와 같습니다.\n",
    "* **메소드**: 클래스의 동작을 나타내는 함수를 메소드(method)라고 합니다.\n",
    "* **상속**: 클래스는 다른 클래스로부터 상속받을 수 있으며, 상속 클래스(하위 클래스)는 부모 클래스가 갖지 않는 속성과 메소드를 가질 수 있습니다.\n",
    "* **객체의 사용**: 객체는 일반 변수처럼 사용되며, 함수의 인자로 사용되거나 함수에서 객체를 반환할 수 있고, 튜플이나 딕셔너리의 요소로도 사용될 수 있습니다."
   ]
  },
  {
   "cell_type": "markdown",
   "id": "b586023f",
   "metadata": {},
   "source": [
    "## 2. 클래스 정의 및 속성\n",
    "\n",
    "| 개념 | 설명 | 정의/예시 |\n",
    "| :--- | :--- | :--- |\n",
    "| **클래스 정의** | `class` 키워드로 정의되며, 부모 클래스는 생략 가능. | `class 클래스이름(부모 클래스):` |\n",
    "| **객체 생성** | 클래스를 인스턴스화(Instantiation)하여 만들어진 것입니다. | `t = Test()` |\n",
    "| **클래스 몸체** | 변수와 메소드로 구성됩니다. | - |\n",
    "\n",
    "### 클래스 속성 (변수)\n",
    "\n",
    "* **인스턴스 변수 (`self.variable`)**\n",
    "    * `self.`로 정의된 변수는 클래스 전체에서 유효합니다.\n",
    "    * 클래스 속성은 인스턴스 변수로 정의합니다.\n",
    "    * 클래스 내부의 모든 메소드에서 사용할 수 있습니다.\n",
    "* **지역 변수**\n",
    "    * `self.`가 없는 변수는 메소드 내에서만 유효한 지역변수입니다.\n",
    "* **클래스 변수 (정적 멤버)**\n",
    "    * 클래스 몸체에 선언되며, 클래스 내에서 유효합니다.\n",
    "    * 클래스 변수를 `self`와 함께 사용하면 인스턴스 변수처럼 사용할 수 있습니다.\n",
    "\n",
    "### 초기화 함수 (`__init__()`)\n",
    "\n",
    "* **역할**: 객체를 생성할 때 자동 실행되는 메소드입니다.\n",
    "* **목적**: 인스턴스 변수(`self.var`)를 초기화할 때 사용합니다 (초기화 필요 없으면 생략 가능).\n",
    "* **`self`**: 첫 번째 매개변수로, 클래스 객체를 나타냅니다."
   ]
  },
  {
   "cell_type": "markdown",
   "id": "a46e3eb3",
   "metadata": {},
   "source": [
    "## 3. 상속 (Inheritance) 및 다형성\n",
    "\n",
    "* **상속**: 기존 클래스의 속성과 메소드를 이어받고 자신이 필요한 기능을 추가하는 기법입니다.\n",
    "    * **상위/부모 클래스 (Super Class)**: 기존에 만들어진 클래스.\n",
    "    * **하위/자식 클래스 (Sub Class)**: 상속받는 클래스.\n",
    "    * **구현**: `class subclass(superclass):`.\n",
    "* **부모 클래스 호출**: 자식 클래스에서 부모 클래스의 생성자/메소드를 호출할 때는 `super().method(args)`를 사용합니다 (`self` 없음).\n",
    "* **메소드 오버라이딩 (Method Overriding)**: 자식 클래스에서 부모 클래스의 메소드를 수정해 다시 정의하는 것입니다.\n",
    "\n",
    "* **다형성 (Polymorphism)**: 전달된 인자에 따라 함수 또는 연산의 기능이 달라지는 기능입니다. (예: `2 + 3`과 `'2' + '3'`)\n"
   ]
  },
  {
   "cell_type": "markdown",
   "id": "52044498",
   "metadata": {},
   "source": [
    "## 4. 가시성 (Visibility) 및 접근 제어\n",
    "\n",
    "파이썬은 접근 제어자(public, protected, private)가 엄격하게 적용되지 않지만, 관례적으로 밑줄을 사용하여 가시성을 표현합니다.\n",
    "\n",
    "| 구분 | 이름 앞 밑줄 | 관례적 의미 |\n",
    "| :--- | :--- | :--- |\n",
    "| **Public** | 없음 (예: `value`) | 어디서나 접근 가능 |\n",
    "| **Protected** | 1개 (예: `_value`) | 하위 클래스에서 접근 권장, 외부에서 직접 접근은 권장하지 않음 |\n",
    "| **Private** | 2개 (예: `__value`) | 클래스 내부에서만 접근, 이름 맹글링(name mangling)되어 외부/하위 클래스에서 직접 접근이 어려움 |\n"
   ]
  },
  {
   "cell_type": "markdown",
   "id": "9bbb1025",
   "metadata": {},
   "source": [
    "## 5. 추상 클래스, 정적 멤버 및 데코레이터\n",
    "\n",
    "### 추상 함수 (Abstract Methods)\n",
    "* `abc` 모듈의 `ABC`와 `@abstractmethod` 데코레이터를 사용해 정의합니다.\n",
    "* 추상 메소드는 **반드시 하위 클래스에서 구현**해야 하며, 추상 클래스는 직접 인스턴스화할 수 없습니다.\n",
    "\n",
    "### 정적 멤버 (Static Members)\n",
    "* **정적 변수 (클래스 변수)**: 클래스 전체에서 공유되며, `self`가 아닌 일반 변수로 선언하고 `클래스.변수` 형태로 접근합니다.\n",
    "* **정적 메소드**: `@staticmethod` 데코레이터를 사용해 정의합니다.\n",
    "\n",
    "### Dunder Methods (매직 메소드)\n",
    "* **Dunder**는 Double Underlines의 약자입니다.\n",
    "* `__XXX__` 형태의 메소드는 자동으로 호출되는 경우가 많으며, 이를 재정의하여 사용자 코드를 수행하도록 할 수 있습니다.\n",
    "* **주요 예시**: `__init__`, `__str__`, `__eq__`, `__del__`.\n",
    "\n",
    "### 파이썬 데코레이터 (Decorator)\n",
    "* **역할**: 함수나 클래스의 동작을 수정하거나 확장할 때 사용하는 문법입니다.\n",
    "* **사용법**: 함수 정의 위에 `@데코레이터이름` 형태로 사용합니다.\n",
    "* **확장 방법**: 이미 작성된 함수의 기능을 확장할 때 함수 재할당(`원본 함수명 = decorator(원본 함수명)`) 또는 다른 함수명으로 명명하여 사용할 수 있습니다."
   ]
  }
 ],
 "metadata": {
  "kernelspec": {
   "display_name": "base",
   "language": "python",
   "name": "python3"
  },
  "language_info": {
   "codemirror_mode": {
    "name": "ipython",
    "version": 3
   },
   "file_extension": ".py",
   "mimetype": "text/x-python",
   "name": "python",
   "nbconvert_exporter": "python",
   "pygments_lexer": "ipython3",
   "version": "3.13.5"
  }
 },
 "nbformat": 4,
 "nbformat_minor": 5
}
