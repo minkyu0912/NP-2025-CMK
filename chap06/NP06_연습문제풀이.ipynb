{
 "cells": [
  {
   "cell_type": "markdown",
   "id": "7d4a0493",
   "metadata": {},
   "source": [
    "__6-3연습문제__\n",
    "-------------\n",
    "#### Moneybox 클래스를 작성하라. 이클래스는 저축한 총액을 저장하는 인스턴스 변수가 있다.<br>  \n",
    "#### deposit(money) 메서드는 인수로 주어진 금액만큼 저축하고 총액을 출력한다, <br> \n",
    "#### extract(money) 메소드는 money를 인출하고 총액을 출력한다. get_total() 메소드는 총액을 알려준다. <br>\n",
    "#### ❖ my_money = Moneybox() 객체를 생성하고 1000원을 저축하고, 200원을 인출한다음, 총액을 출력하라"
   ]
  },
  {
   "cell_type": "code",
   "execution_count": null,
   "id": "9a534400",
   "metadata": {
    "vscode": {
     "languageId": "plaintext"
    }
   },
   "outputs": [],
   "source": []
  },
  {
   "cell_type": "markdown",
   "id": "4c37dd1a",
   "metadata": {},
   "source": [
    "__6-4연습문제__\n",
    "--------\n",
    "#### Password_manager 클래스를 작성하라. <br>이 클래스는 사용자의 모든 과거 패스워드를 저장하는 old_passwords 리스트 변수를 갖는다.<br> 리스트의 마지막요소는 현재 패스워드를 알려주는 get_password와 새로운 패스워드를 설정하는 set_password 메소드를정의하라.<br> set_password는 과거에 사용하지 않은 새로운 패스워드를 설정할때만 유효하다.<br>문자열을 입력받아 현재 패스워드와 같은지 True 또는 False를 반환하는 is_correct 메소드를 정의하라"
   ]
  },
  {
   "cell_type": "code",
   "execution_count": null,
   "id": "4baf937f",
   "metadata": {
    "vscode": {
     "languageId": "plaintext"
    }
   },
   "outputs": [],
   "source": []
  },
  {
   "cell_type": "markdown",
   "id": "a9bcbc0b",
   "metadata": {},
   "source": [
    "__6-5연습문제__\n",
    "--------\n",
    "#### Articles 클래스를 작성하라.<br> 이 클래스는 각각 제품의 이름, 재고수량, 단가를 나타내는 name, stock, price 인스턴스 변수를 가지고 있다.<br> offer_price() 메소드는 구매 수량을 인수로 전달받아 총가격을 반환한다.<br>구매수량이 1~10개 이하이면 정상가격을 반환하고, 11~50개 이면 5% 할인된 가격을 반환한다. <br>또 51개 이상이면 10% 할인해준다.<br> purchase() 메소드는 구매수량을 인수로 전달받아 재고수량을 구매수량만큼 감소한다.<br> ❖ 이클래스를 이용하여 단가1000원인 ”mask“ 를 10,000장으로설정하고, 40장구매가격과 구매후 재고를 출력하라."
   ]
  },
  {
   "cell_type": "code",
   "execution_count": null,
   "id": "35c564e0",
   "metadata": {
    "vscode": {
     "languageId": "plaintext"
    }
   },
   "outputs": [],
   "source": []
  },
  {
   "cell_type": "markdown",
   "id": "3cd1de7e",
   "metadata": {},
   "source": [
    "__6-6연습문제__\n",
    "--------\n",
    "####  다음 프로그램을 실행했을때 아래 내용이 출력 되도록 클래스를 정의하라. 학번(id) 앞4자리가 2018보다 작으면 grade() 메소드에 의해 “3학년입니다“가 출력되고 아니면 ”3학년이 아닙니다“가 출력된다. \n",
    "man = Student(name = “홍길동”, id = 20150001, dept = “로봇공학과”)<br>\n",
    "print(“이름: {}, 학번: {}, 학과: {}”.format(man.name, man.id, man.dept))<br>\n",
    "man.grade()<br>"
   ]
  },
  {
   "cell_type": "markdown",
   "id": "6997015e",
   "metadata": {},
   "source": [
    "__6-7연습문제__\n",
    "--------\n",
    "#### 다음 Person 클래스를 상속받는 Employee 클래스를 정의하라. Employee 클래스에 employeeID 속성을 추가하고 getID() 메소드를 정의하라. getID() 메소드는 employeeID를 반환하는 메소드이다. Employee 클래스를 이용하여 Employee(\"동양\", 65, 2019)로 생성된 객체의 이름, 나이, ID를 출력하라.\n",
    "class Person:\n",
    "    def __init__(self, name, age): \n",
    "        self.name = name \n",
    "        self.age = age \n",
    "    def getName(self): \n",
    "        print(self.name) \n",
    "    def getAge(self): \n",
    "        print(self.age) "
   ]
  }
 ],
 "metadata": {
  "language_info": {
   "name": "python"
  }
 },
 "nbformat": 4,
 "nbformat_minor": 5
}
