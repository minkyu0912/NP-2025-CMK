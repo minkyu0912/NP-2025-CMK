{
 "cells": [
  {
   "cell_type": "markdown",
   "id": "2bd7b0c0",
   "metadata": {},
   "source": [
    "__리스트 연습문제 1__\n",
    "============="
   ]
  },
  {
   "cell_type": "markdown",
   "id": "1b9cc3dd",
   "metadata": {},
   "source": [
    "* * *\n",
    "##### __1__. __3명 이상 친구 이름 리스트를 작성하고 다음 내용을 프로그램하시오__\n",
    "    insert()로 맨 앞에 새로운 친구 추가\n",
    "    insert()로 3번째 위치에 새로운 친구 추가\n",
    "    append()로 마지막에 친구 추가"
   ]
  },
  {
   "cell_type": "code",
   "execution_count": 2,
   "id": "3e42cada",
   "metadata": {},
   "outputs": [
    {
     "name": "stdout",
     "output_type": "stream",
     "text": [
      "초기 리스트: ['태균', '진영', '성수']\n",
      "맨 앞에 근일 추가: ['근일', '태균', '진영', '성수']\n",
      "3번째 위치에 용민 추가: ['근일', '태균', '용민', '진영', '성수']\n",
      "마지막에 관빈 추가: ['근일', '태균', '용민', '진영', '성수', '관빈']\n"
     ]
    }
   ],
   "source": [
    "friends = [\"태균\", \"진영\", \"성수\"] \n",
    "print(\"초기 리스트:\", friends)\n",
    "\n",
    "# 맨 앞에 새로운 친구 추가\n",
    "friends.insert(0, \"근일\")\n",
    "print(\"맨 앞에 근일 추가:\", friends)\n",
    "\n",
    "# 3번째 위치에 새로운 친구 추가\n",
    "friends.insert(2, \"용민\")\n",
    "print(\"3번째 위치에 용민 추가:\", friends)\n",
    "\n",
    "# 마지막에 친구 추가\n",
    "friends.append(\"관빈\")\n",
    "print(\"마지막에 관빈 추가:\", friends)"
   ]
  },
  {
   "cell_type": "markdown",
   "id": "68380213",
   "metadata": {},
   "source": [
    "* * *\n",
    "##### __2__. __리스트 [1, 2, 3]에 대해 다음과 같은 처리를 하라.__\n",
    "    두 번째 요소를 17로 수정 \n",
    "    리스트에 4, 5, 6을 추가\n",
    "    첫 번째 요소 제거\n",
    "    리스트를 요소 순서대로 배열하기\n",
    "    인덱스 3에 25넣기"
   ]
  },
  {
   "cell_type": "code",
   "execution_count": 3,
   "id": "3f68d2fd",
   "metadata": {},
   "outputs": [
    {
     "name": "stdout",
     "output_type": "stream",
     "text": [
      "초기: [1, 2, 3]\n",
      "두 번째 요소를 17로 수정: [1, 17, 3]\n",
      "4, 5, 6 추가: [1, 17, 3, 4, 5, 6]\n",
      "첫 번째 요소 제거: [17, 3, 4, 5, 6]\n",
      "정렬 후: [3, 4, 5, 6, 17]\n",
      "인덱스 3에 25 삽입: [3, 4, 5, 25, 6, 17]\n"
     ]
    }
   ],
   "source": [
    "nums = [1, 2, 3]\n",
    "print(\"초기:\", nums)\n",
    "\n",
    "nums.pop(1)          \n",
    "nums.insert(1, 17)   \n",
    "print(\"두 번째 요소를 17로 수정:\", nums)\n",
    "\n",
    "nums.extend([4, 5, 6])\n",
    "print(\"4, 5, 6 추가:\", nums)\n",
    "\n",
    "nums.pop(0)\n",
    "print(\"첫 번째 요소 제거:\", nums)\n",
    "\n",
    "nums.sort()\n",
    "print(\"정렬 후:\", nums)\n",
    "\n",
    "nums.insert(3, 25)\n",
    "print(\"인덱스 3에 25 삽입:\", nums)"
   ]
  },
  {
   "cell_type": "markdown",
   "id": "b7136e9a",
   "metadata": {},
   "source": [
    "* * *\n",
    "__연습문제 2__\n",
    "============="
   ]
  },
  {
   "cell_type": "markdown",
   "id": "631f0f51",
   "metadata": {},
   "source": [
    "* * * \n",
    "#### __1__. __for 루프를 이용하여 다음과 같은 리스트를 생성하라__\n",
    "    0~49 까지의 수로 구성되는 리스트\n",
    "    1~50 까지 수의 제곱으로 구성되는 리스트"
   ]
  },
  {
   "cell_type": "code",
   "execution_count": 4,
   "id": "eb9101f1",
   "metadata": {},
   "outputs": [
    {
     "name": "stdout",
     "output_type": "stream",
     "text": [
      "0~49 리스트: [0, 1, 2, 3, 4, 5, 6, 7, 8, 9, 10, 11, 12, 13, 14, 15, 16, 17, 18, 19, 20, 21, 22, 23, 24, 25, 26, 27, 28, 29, 30, 31, 32, 33, 34, 35, 36, 37, 38, 39, 40, 41, 42, 43, 44, 45, 46, 47, 48, 49]\n",
      "1~50 제곱 리스트: [1, 4, 9, 16, 25, 36, 49, 64, 81, 100, 121, 144, 169, 196, 225, 256, 289, 324, 361, 400, 441, 484, 529, 576, 625, 676, 729, 784, 841, 900, 961, 1024, 1089, 1156, 1225, 1296, 1369, 1444, 1521, 1600, 1681, 1764, 1849, 1936, 2025, 2116, 2209, 2304, 2401, 2500]\n"
     ]
    }
   ],
   "source": [
    "nums_0_49 = []\n",
    "for i in range(50):        \n",
    "    nums_0_49.append(i)\n",
    "print(\"0~49 리스트:\", nums_0_49)\n",
    "\n",
    "# 1~50까지 수의 제곱으로 구성된 리스트\n",
    "squares_1_50 = []\n",
    "for i in range(1, 51):     \n",
    "    squares_1_50.append(i ** 2)\n",
    "print(\"1~50 제곱 리스트:\", squares_1_50)"
   ]
  },
  {
   "cell_type": "markdown",
   "id": "4efcfdb4",
   "metadata": {},
   "source": [
    "* * * \n",
    "#### __2__. __크기가 같은 두개의 리스트 L, M을 생성하고 두 리스트의 각 요소 합으로 구성되는 새로운 리스트를 생성하라.<br> 예를 들어 L = [1,2,3] 이고 M = [4,5,6] 이면 [5,7,9] 인 리스트 생성__"
   ]
  },
  {
   "cell_type": "code",
   "execution_count": 5,
   "id": "f6de355b",
   "metadata": {},
   "outputs": [
    {
     "name": "stdout",
     "output_type": "stream",
     "text": [
      "L과 M의 각 요소 합: [5, 7, 9]\n"
     ]
    }
   ],
   "source": [
    "L = [1, 2, 3]\n",
    "M = [4, 5, 6]\n",
    "\n",
    "sum_list = []\n",
    "for i in range(len(L)):       \n",
    "    sum_list.append(L[i] + M[i])\n",
    "\n",
    "print(\"L과 M의 각 요소 합:\", sum_list)"
   ]
  },
  {
   "cell_type": "markdown",
   "id": "581c6ddd",
   "metadata": {},
   "source": [
    "* * *\n",
    "__연습문제 3__\n",
    "============="
   ]
  },
  {
   "cell_type": "markdown",
   "id": "bb24ec41",
   "metadata": {},
   "source": [
    "* * * \n",
    "#### __1__. __다음 딕셔너리에 대해 물음에 답하라. <br> days = {'January' : 31, 'February' : 28, 'March' : 31, 'April' : 30, 'May' : 31, 'June' : 30, 'July' : 31, 'August' : 31, 'September' : 30, 'October' : 31, 'November' : 30, 'December' : 31}__\n",
    "    사용자가 월을 입력하면 해당 월에 일수를 출력하라\n",
    "    알파벳 순서로 모든 월을 출력하라\n",
    "    일수가 31인 월을 모두 출력하라\n",
    "    월의 일수를 기준으로 오름차순으로(key-value) 쌍을 출력하라\n",
    "    사용자가 월을 3자리만 입력하면 월의 일수를 출력하라.(Jan, Feb 등)"
   ]
  },
  {
   "cell_type": "code",
   "execution_count": 6,
   "id": "2eb5d363",
   "metadata": {},
   "outputs": [
    {
     "name": "stdout",
     "output_type": "stream",
     "text": [
      "해당 월이 딕셔너리에 없습니다.\n",
      "\n",
      "알파벳 순서의 월 목록:\n",
      "April August December February January July June March May November October September \n",
      "\n",
      "31일인 월:\n",
      "January March May July August October December \n",
      "\n",
      "일수 기준 오름차순 (월 : 일수):\n",
      "February : 28\n",
      "April : 30\n",
      "June : 30\n",
      "September : 30\n",
      "November : 30\n",
      "January : 31\n",
      "March : 31\n",
      "May : 31\n",
      "July : 31\n",
      "August : 31\n",
      "October : 31\n",
      "December : 31\n",
      "February는 28일입니다.\n"
     ]
    }
   ],
   "source": [
    "days = {\n",
    "    'January':31, 'February':28, 'March':31, 'April':30,\n",
    "    'May':31, 'June':30, 'July':31, 'August':31,\n",
    "    'September':30, 'October':31, 'November':30, 'December':31\n",
    "}\n",
    "\n",
    "# 1. 사용자가 월을 입력하면 해당 월의 일수 출력\n",
    "month = input(\"월 이름을 입력하세요 (예: March): \").strip()\n",
    "if month in days:\n",
    "    print(f\"{month}는 {days[month]}일입니다.\")\n",
    "else:\n",
    "    print(\"해당 월이 딕셔너리에 없습니다.\")\n",
    "\n",
    "# 2. 알파벳 순서로 모든 월 출력\n",
    "print(\"\\n알파벳 순서의 월 목록:\")\n",
    "for m in sorted(days.keys()):\n",
    "    print(m, end=\" \")\n",
    "print()\n",
    "\n",
    "# 3. 일수가 31일인 월 모두 출력\n",
    "print(\"\\n31일인 월:\")\n",
    "for m, d in days.items():\n",
    "    if d == 31:\n",
    "        print(m, end=\" \")\n",
    "print()\n",
    "\n",
    "# 4. 월의 일수를 기준으로 오름차순 (key-value 쌍)\n",
    "print(\"\\n일수 기준 오름차순 (월 : 일수):\")\n",
    "for m, d in sorted(days.items(), key=lambda x: x[1]):\n",
    "    print(f\"{m} : {d}\")\n",
    "\n",
    "# 5. 3자리 약어로 입력해도 월의 일수를 출력\n",
    "abbr = input(\"\\n월의 3자리 약어를 입력하세요 (예: Jan, Feb): \").strip().lower()\n",
    "\n",
    "# 약어 → 실제 월 이름 매핑\n",
    "found = False\n",
    "for m, d in days.items():\n",
    "    if m.lower().startswith(abbr):\n",
    "        print(f\"{m}는 {d}일입니다.\")\n",
    "        found = True\n",
    "        break\n",
    "\n",
    "if not found:\n",
    "    print(\"해당 약어와 일치하는 월이 없습니다.\")"
   ]
  }
 ],
 "metadata": {
  "kernelspec": {
   "display_name": "base",
   "language": "python",
   "name": "python3"
  },
  "language_info": {
   "codemirror_mode": {
    "name": "ipython",
    "version": 3
   },
   "file_extension": ".py",
   "mimetype": "text/x-python",
   "name": "python",
   "nbconvert_exporter": "python",
   "pygments_lexer": "ipython3",
   "version": "3.13.5"
  }
 },
 "nbformat": 4,
 "nbformat_minor": 5
}
