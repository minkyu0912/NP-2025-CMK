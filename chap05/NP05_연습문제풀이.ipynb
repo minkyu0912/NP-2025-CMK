{
 "cells": [
  {
   "cell_type": "markdown",
   "id": "e70d3185",
   "metadata": {},
   "source": [
    "* * *\n",
    "__연습문제__\n",
    "=============="
   ]
  },
  {
   "cell_type": "markdown",
   "id": "3b9c62c7",
   "metadata": {},
   "source": [
    "* * *\n",
    "## __1.  두 개의 매개변수 n, m 을 전달 받아 m x n개의 * 상자를 출력하는 프로그램을 함수로 작성__ <br>예: 2, 4 →<br> **** <br> **** \n"
   ]
  },
  {
   "cell_type": "code",
   "execution_count": 3,
   "id": "e8986a71",
   "metadata": {},
   "outputs": [
    {
     "name": "stdout",
     "output_type": "stream",
     "text": [
      "****\n",
      "****\n"
     ]
    }
   ],
   "source": [
    "def stars(n,m):\n",
    "    for i in range(n):\n",
    "        print('*'*m)\n",
    "    \n",
    "\n",
    "stars(2,4)\n"
   ]
  },
  {
   "cell_type": "markdown",
   "id": "6911a3ea",
   "metadata": {},
   "source": [
    "* * *\n",
    "## __2. 하나의 숫자를 전달 받아 숫자의 자리 합을 구하는 함수를 작성<br>예: 123 → 1+2+3 = 6__"
   ]
  },
  {
   "cell_type": "code",
   "execution_count": null,
   "id": "78b755fa",
   "metadata": {},
   "outputs": [
    {
     "name": "stdout",
     "output_type": "stream",
     "text": [
      "end=정수 n의 각 자리수를 더한 합을 반환\n",
      "1의 자리수 합 = 1\n"
     ]
    }
   ],
   "source": [
    "def digit_sum(n):\n",
    "    print(\"end=정수 n의 각 자리수를 더한 합을 반환\")\n",
    "    total = 0\n",
    "    for ch in str(n):   # 숫자를 문자열로 바꿔서 한 자리씩 꺼내기\n",
    "        total += int(ch)\n",
    "    return total\n",
    "\n",
    "# 사용자 입력\n",
    "num = int(input(\"숫자를 입력하세요: \"))\n",
    "print(f\"{num}의 자리수 합 = {digit_sum(num)}\")\n"
   ]
  },
  {
   "cell_type": "markdown",
   "id": "b9acb704",
   "metadata": {},
   "source": [
    "* * *\n",
    "## __ 3. 두개의 문자열이 서로 다른 처음 위치를 반환하는 함수를 작성. 두개의 문자열이 같으면 -1을 반환__"
   ]
  },
  {
   "cell_type": "code",
   "execution_count": 7,
   "id": "ef487424",
   "metadata": {},
   "outputs": [
    {
     "name": "stdout",
     "output_type": "stream",
     "text": [
      "abc와 abd의 처음 다른 위치: 2\n",
      "hello와 hi의 처음 다른 위치: 1\n",
      "test와 test의 처음 다른 위치: -1\n",
      "abcde와 abc의 처음 다른 위치: 3\n"
     ]
    }
   ],
   "source": [
    "def find_differnce(str1: str, str2: str) -> int:\n",
    "    \n",
    "    min_length = min(len(str1), len(str2))\n",
    "    \n",
    "    for i in range(min_length):\n",
    "        if str1[i] != str2[i]:\n",
    "            return i\n",
    "        \n",
    "    if len(str1) == len(str2):\n",
    "        return -1\n",
    "    else:\n",
    "        return min_length\n",
    "    \n",
    "print(f\"abc와 abd의 처음 다른 위치: {find_differnce('abc', 'abd')}\") # 2\n",
    "print(f\"hello와 hi의 처음 다른 위치: {find_differnce('hello', 'hi')}\") # 1\n",
    "print(f\"test와 test의 처음 다른 위치: {find_differnce('test', 'test')}\") # -1\n",
    "print(f\"abcde와 abc의 처음 다른 위치: {find_differnce('abcde', 'abc')}\") # 3        "
   ]
  },
  {
   "cell_type": "markdown",
   "id": "461d92cc",
   "metadata": {},
   "source": [
    "* * *\n",
    "## __4. 숫자를 전달받아 그 수의 약수를 리스트로 반환하는 함수를 작성__"
   ]
  },
  {
   "cell_type": "code",
   "execution_count": null,
   "id": "a72e7e87",
   "metadata": {},
   "outputs": [],
   "source": [
    "def find_divisor(number: int) -> list:\n",
    "    \n",
    "    if number <= 0:\n",
    "        return []\n",
    "    \n",
    "    divisors = []\n",
    "    for i in range(1, number + 1):\n",
    "        if number % i == 0:\n",
    "            divisors.append(i)\n",
    "            \n",
    "    return divisors\n",
    "\n",
    "print(f\"12의 약수: {find_divisor(12)}\") \n",
    "print(f\"7의 약수: {find_divisor(7)}\")     \n",
    "print(f\"30의 약수: {find_divisor(30)}\")  "
   ]
  },
  {
   "cell_type": "markdown",
   "id": "a1b80612",
   "metadata": {},
   "source": [
    "* * *\n",
    "## __5. 문자열과 하나의 문자를 전달받아 문자열에서 문자의 위치를 모두 찾아 리스트로 반환하는 함수를 작성__"
   ]
  },
  {
   "cell_type": "code",
   "execution_count": null,
   "id": "793804d4",
   "metadata": {},
   "outputs": [],
   "source": [
    "def find_char_positions(text: str, char_to_find: str) -> list:\n",
    "\n",
    "    positions = []\n",
    "\n",
    "    for index, char in enumerate(text):\n",
    "        if char == char_to_find:\n",
    "            positions.append(index)\n",
    "            \n",
    "    return positions\n",
    "\n",
    "text1 = \"banana\"\n",
    "char1 = \"a\"\n",
    "print(f\"문자열 '{text1}'에서 '{char1}'의 위치: {find_char_positions(text1, char1)}\") \n",
    "\n",
    "\n",
    "text2 = \"programming\"\n",
    "char2 = \"g\"\n",
    "print(f\"문자열 '{text2}'에서 '{char2}'의 위치: {find_char_positions(text2, char2)}\") \n",
    "\n",
    "\n",
    "text3 = \"python\"\n",
    "char3 = \"z\"\n",
    "print(f\"문자열 '{text3}'에서 '{char3}'의 위치: {find_char_positions(text3, char3)}\") \n"
   ]
  },
  {
   "cell_type": "markdown",
   "id": "3be4f2b2",
   "metadata": {},
   "source": [
    "* * *\n",
    "## __6. 재귀 함수를 이용하여 1부터 100까지의 합을 계산하는 프로그램__"
   ]
  },
  {
   "cell_type": "code",
   "execution_count": 8,
   "id": "0a226973",
   "metadata": {},
   "outputs": [
    {
     "name": "stdout",
     "output_type": "stream",
     "text": [
      "5050\n"
     ]
    }
   ],
   "source": [
    "def plus(n): \n",
    "    if n==1: \n",
    "        return 1\n",
    "    else:\n",
    "        return n+plus(n-1) \n",
    "    \n",
    "print(plus(100))"
   ]
  }
 ],
 "metadata": {
  "kernelspec": {
   "display_name": "base",
   "language": "python",
   "name": "python3"
  },
  "language_info": {
   "codemirror_mode": {
    "name": "ipython",
    "version": 3
   },
   "file_extension": ".py",
   "mimetype": "text/x-python",
   "name": "python",
   "nbconvert_exporter": "python",
   "pygments_lexer": "ipython3",
   "version": "3.13.5"
  }
 },
 "nbformat": 4,
 "nbformat_minor": 5
}
