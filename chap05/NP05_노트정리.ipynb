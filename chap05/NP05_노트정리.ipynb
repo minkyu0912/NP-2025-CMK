{
 "cells": [
  {
   "cell_type": "code",
   "execution_count": 3,
   "id": "8b68fbb3",
   "metadata": {},
   "outputs": [
    {
     "data": {
      "text/plain": [
       "3"
      ]
     },
     "execution_count": 3,
     "metadata": {},
     "output_type": "execute_result"
    }
   ],
   "source": [
    "n = 1\n",
    "m = 2\n",
    "eval(\"n+m\")"
   ]
  },
  {
   "cell_type": "code",
   "execution_count": 5,
   "id": "0b882f75",
   "metadata": {},
   "outputs": [
    {
     "data": {
      "text/plain": [
       "10"
      ]
     },
     "execution_count": 5,
     "metadata": {},
     "output_type": "execute_result"
    }
   ],
   "source": [
    "int('1010', 2)\n",
    "# 10진수로 변환\n"
   ]
  },
  {
   "cell_type": "code",
   "execution_count": 6,
   "id": "465da0af",
   "metadata": {},
   "outputs": [
    {
     "data": {
      "text/plain": [
       "520"
      ]
     },
     "execution_count": 6,
     "metadata": {},
     "output_type": "execute_result"
    }
   ],
   "source": [
    "int('1010', 8)\n",
    "# 8진수로 변환"
   ]
  },
  {
   "cell_type": "code",
   "execution_count": 7,
   "id": "57afe58e",
   "metadata": {},
   "outputs": [
    {
     "data": {
      "text/plain": [
       "4112"
      ]
     },
     "execution_count": 7,
     "metadata": {},
     "output_type": "execute_result"
    }
   ],
   "source": [
    "int('1010', 16)\n",
    "# 16진수로 변환"
   ]
  },
  {
   "cell_type": "code",
   "execution_count": 8,
   "id": "0d1caaba",
   "metadata": {},
   "outputs": [
    {
     "data": {
      "text/plain": [
       "['this', 'test']"
      ]
     },
     "execution_count": 8,
     "metadata": {},
     "output_type": "execute_result"
    }
   ],
   "source": [
    "list(filter(lambda x: len(x)>2, ['this', 'is', 'a', 'test']))"
   ]
  },
  {
   "cell_type": "code",
   "execution_count": 9,
   "id": "99dc9198",
   "metadata": {},
   "outputs": [],
   "source": [
    "age = 3\n",
    "name = 'ALICE'\n",
    "age: int = 20\n",
    "name: str = 'ALCE'"
   ]
  }
 ],
 "metadata": {
  "kernelspec": {
   "display_name": "base",
   "language": "python",
   "name": "python3"
  },
  "language_info": {
   "codemirror_mode": {
    "name": "ipython",
    "version": 3
   },
   "file_extension": ".py",
   "mimetype": "text/x-python",
   "name": "python",
   "nbconvert_exporter": "python",
   "pygments_lexer": "ipython3",
   "version": "3.13.5"
  }
 },
 "nbformat": 4,
 "nbformat_minor": 5
}
