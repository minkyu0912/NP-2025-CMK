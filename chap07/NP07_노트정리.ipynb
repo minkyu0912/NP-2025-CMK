{
 "cells": [
  {
   "cell_type": "code",
   "execution_count": 4,
   "id": "bf716d77",
   "metadata": {},
   "outputs": [
    {
     "data": {
      "text/plain": [
       "'DESKTOP-DNOCDDJ'"
      ]
     },
     "execution_count": 4,
     "metadata": {},
     "output_type": "execute_result"
    }
   ],
   "source": [
    "from socket import gethostname\n",
    "\n",
    "gethostname() "
   ]
  },
  {
   "cell_type": "code",
   "execution_count": 5,
   "id": "4513c28b",
   "metadata": {},
   "outputs": [
    {
     "data": {
      "text/plain": [
       "['c:\\\\Users\\\\ASUS\\\\anaconda3\\\\python313.zip',\n",
       " 'c:\\\\Users\\\\ASUS\\\\anaconda3\\\\DLLs',\n",
       " 'c:\\\\Users\\\\ASUS\\\\anaconda3\\\\Lib',\n",
       " 'c:\\\\Users\\\\ASUS\\\\anaconda3',\n",
       " '',\n",
       " 'c:\\\\Users\\\\ASUS\\\\anaconda3\\\\Lib\\\\site-packages',\n",
       " 'c:\\\\Users\\\\ASUS\\\\anaconda3\\\\Lib\\\\site-packages\\\\win32',\n",
       " 'c:\\\\Users\\\\ASUS\\\\anaconda3\\\\Lib\\\\site-packages\\\\win32\\\\lib',\n",
       " 'c:\\\\Users\\\\ASUS\\\\anaconda3\\\\Lib\\\\site-packages\\\\Pythonwin']"
      ]
     },
     "execution_count": 5,
     "metadata": {},
     "output_type": "execute_result"
    }
   ],
   "source": [
    "import os, sys\n",
    "os.getcwd()\n",
    "sys.path "
   ]
  },
  {
   "cell_type": "code",
   "execution_count": 7,
   "id": "1575d2bd",
   "metadata": {},
   "outputs": [
    {
     "ename": "ZeroDivisionError",
     "evalue": "division by zero",
     "output_type": "error",
     "traceback": [
      "\u001b[1;31m---------------------------------------------------------------------------\u001b[0m",
      "\u001b[1;31mZeroDivisionError\u001b[0m                         Traceback (most recent call last)",
      "Cell \u001b[1;32mIn[7], line 1\u001b[0m\n\u001b[1;32m----> 1\u001b[0m \u001b[38;5;241m5\u001b[39m\u001b[38;5;241m/\u001b[39m\u001b[38;5;241m0\u001b[39m\n",
      "\u001b[1;31mZeroDivisionError\u001b[0m: division by zero"
     ]
    }
   ],
   "source": [
    "5/0"
   ]
  },
  {
   "cell_type": "markdown",
   "id": "a7d40455",
   "metadata": {},
   "source": [
    "### 1. 모듈 (Module)\n",
    "\n",
    "#### 모듈이란?\n",
    "* [cite_start]함수, 변수, 클래스들을 모아 놓은 파일 묶음(라이브러리) [cite: 9]\n",
    "\n",
    "#### 모듈의 종류\n",
    "* [cite_start]표준 모듈 (Standard Module) [cite: 11]\n",
    "* [cite_start]서드 파티(3rd party) 모듈 [cite: 12]\n",
    "* [cite_start]사용자 정의 모듈 [cite: 13]\n",
    "\n",
    "#### 서드 파티 모듈 설치\n",
    "* [cite_start]`c:~>pip install modulename [--upgrade]` [cite: 19]\n",
    "\n",
    "#### 모듈 불러오기 (Import)\n",
    "[cite_start]프로그램 외부에 존재하는 모듈을 내부로 불러와서 사용하기 위해 필요한 명령이다. [cite: 21, 22]\n",
    "\n",
    "1.  [cite_start]**`import module_name`** [cite: 23]\n",
    "    * [cite_start]예: `>>> import socket` [cite: 24]\n",
    "    * [cite_start]사용법: `모듈이름.속성` 형태로 호출 (`socket.gethostname()`) [cite: 29]\n",
    "2.  [cite_start]**`from module_name import class or methods`** [cite: 35]\n",
    "    * [cite_start]예: `from socket import gethostname` [cite: 36]\n",
    "    * [cite_start]사용법: `class or methods` 이름을 직접 호출 (`gethostname()`) [cite: 40]\n",
    "3.  [cite_start]**`from module_name import *`** [cite: 43]\n",
    "    * [cite_start]모듈의 모든 속성을 사용할 수 있다[cite: 45].\n",
    "    * [cite_start]메소드를 직접 호출한다 (`gethostname()`)[cite: 47].\n",
    "    * [cite_start]단점: 메모리를 많이 차지하고 다른 함수와 혼동 가능성이 있다[cite: 48].\n",
    "4.  [cite_start]**`import module_name as alias` (단축이름)** [cite: 51]\n",
    "    * [cite_start]모듈 이름이 긴 경우 단축이름으로 불러온다[cite: 52].\n",
    "    * [cite_start]예: `>>> import socket as so` [cite: 54]\n",
    "    * [cite_start]사용법: 단축이름으로 속성 호출 (`so.gethostname()`) [cite: 55]\n",
    "\n",
    "#### 모듈 탐색 경로\n",
    "* [cite_start]불러오는 모듈은 현재 디렉토리, `sys.path`(환경변수)에 지정된 디렉토리 순서로 찾는다[cite: 57].\n",
    "* [cite_start]`sys.path`는 파이썬이 모듈을 찾는 경로를 표시한다[cite: 60, 101].\n",
    "\n",
    "#### 사용자 정의 모듈\n",
    "* [cite_start]모듈은 일반 프로그램과 같이 작성된다[cite: 65].\n",
    "* `if __name__ == '__main__':`의 기능:\n",
    "    * [cite_start]모듈을 독립된 프로그램으로 사용할 때만 실행된다[cite: 87].\n",
    "    * [cite_start]모듈의 기능을 테스트하기 위해 사용된다[cite: 88].\n",
    "    * [cite_start]모듈로 사용될 때는 실행되지 않는다[cite: 89].\n",
    "\n",
    "#### 유용한 모듈 예시\n",
    "* [cite_start]**`sys` 모듈**: 파이썬 인터프리터에 관한 정보를 알 수 있다[cite: 95].\n",
    "    * [cite_start]`sys.version`: 파이썬 버전 정보 [cite: 97]\n",
    "    * [cite_start]`sys.prefix`: 파이썬 설치 경로 [cite: 100]\n",
    "    * [cite_start]`sys.path`: 파이썬이 모듈을 찾는 경로 [cite: 101]\n",
    "    * [cite_start]`sys.argv` 속성: 명령 인수와 함께 프로그램을 실행 할 때 명령 인수를 전달받는다[cite: 110].\n",
    "* [cite_start]**`random` 모듈**: 난수(random number)를 만들 때 사용[cite: 124].\n",
    "    * [cite_start]`random.randint(1, 5)`: 1~5 사이의 임의 정수 생성 [cite: 125]\n",
    "    * [cite_start]`random.random()`: 0~1 사이의 실수 생성 [cite: 126]\n",
    "    * [cite_start]`random.choice('hello')`: 'hello'에서 임의로 하나의 문자 반환 [cite: 128]\n",
    "* [cite_start]**`math` 모듈**: 수학적 계산을 위한 모듈[cite: 130].\n",
    "    * [cite_start]`math.pi`: $\\pi$ (파이) 상수값 [cite: 130]\n",
    "* [cite_start]**`time` 모듈**: 시간을 문자열로 표시하는 모듈[cite: 132].\n",
    "    * [cite_start]`time.time()`: 1970.1.1 0시부터 경과한 초 [cite: 133]\n",
    "    * [cite_start]`time.asctime()`: 현재 날짜와 시간 [cite: 134]\n",
    "* [cite_start]**`calendar` 모듈**: 달력을 출력하는 모듈[cite: 132].\n",
    "    * [cite_start]`calendar.month(2019, 2)`: 2019년 2월 달력 출력 [cite: 134]\n",
    "* [cite_start]**`enum` 모듈**: 열거형 상수를 정의하기 위한 모듈[cite: 136].\n",
    "    * [cite_start]속성(예: `Color.RED`)은 `name` (RED)과 `value` (1)를 가진다[cite: 136].\n",
    "    * [cite_start]속성의 value를 변경할 수 없다 (상수)[cite: 136, 137].\n",
    "\n",
    "### 2. 패키지 (Package)\n",
    "\n",
    "#### 패키지란?\n",
    "* [cite_start]Python에서 **디렉토리**가 패키지이다[cite: 146, 148].\n",
    "* [cite_start]패키지는 여러 모듈을 포함할 수 있다[cite: 146, 148].\n",
    "* [cite_start]모듈을 그룹화하여 계층 구조를 제공하며 대규모 프로젝트에서 코드 구조를 체계적으로 관리하는 데 유용하다[cite: 146, 149].\n",
    "* [cite_start]디렉토리 내에 `__init__.py` 파일이 있어야 패키지로 인식된다[cite: 146, 148].\n",
    "\n",
    "#### 모듈과 패키지의 차이점\n",
    "| 구분 | 모듈 (Module) | 패키지 (Package) |\n",
    "| :--- | :--- | :--- |\n",
    "| **구성 단위** | [cite_start]하나의 `.py` 파일 [cite: 146] | [cite_start]디렉토리 (여러 모듈 포함) [cite: 146] |\n",
    "| **초기화 파일** | [cite_start]필요 없음 [cite: 146] | [cite_start]`__init__.py` 필요 (Python 3.3+에서는 선택적) [cite: 146] |\n",
    "| **용도** | [cite_start]코드 재사용 [cite: 146] | [cite_start]모듈을 그룹화하여 계층적 관리 [cite: 146] |\n",
    "\n",
    "#### `__init__.py`의 역할\n",
    "* [cite_start]해당 디렉토리를 Python 패키지로 인식하게 만든다[cite: 140].\n",
    "* [cite_start]패키지가 `import`될 때 실행할 초기화 코드를 포함할 수 있다[cite: 142].\n",
    "* [cite_start]패키지 내에서 공통적으로 사용할 설정이나 변수 초기화를 수행할 수 있다[cite: 143].\n",
    "\n",
    "#### 패키지 사용법\n",
    "* [cite_start]**모듈 사용**: `import 함수` [cite: 152]\n",
    "* [cite_start]**패키지 내 모듈 사용**: `from ~ 패키지 import 패키지내 모듈` [cite: 152]\n",
    "\n",
    "### 3. 파이썬 가상환경 (Virtual Environment)\n",
    "\n",
    "#### 가상환경이란?\n",
    "* [cite_start]프로젝트별로 독립된 파이썬 환경을 만드는 도구이다[cite: 157].\n",
    "* [cite_start]각 프로젝트가 서로 다른 패키지 버전을 사용할 수 있게 한다[cite: 157].\n",
    "* [cite_start]시스템 파이썬 환경을 오염시키지 않는다[cite: 157].\n",
    "* [cite_start]모듈, 모듈의 버전 등을 보존하여 버전 변경으로 인한 소스코드의 오류를 방지한다[cite: 166].\n",
    "\n",
    "#### 가상환경 만드는 방법\n",
    "1.  [cite_start]**`venv`** (파이썬 3.3+ 내장 모듈) [cite: 157, 159]\n",
    "    * [cite_start]간단히 사용하고 싶을 경우에 사용된다[cite: 159].\n",
    "    * [cite_start]생성: `python –m venv .myvenv` [cite: 159]\n",
    "    * [cite_start]Windows 활성화: `.\\.venv\\Scripts\\activate` [cite: 159]\n",
    "    * [cite_start]비활성화 (공통): `deactivate` [cite: 159]\n",
    "2.  [cite_start]**`conda`** (anaconda) [cite: 157, 162]\n",
    "    * [cite_start]AI 등에는 필수적인 패키지 관리 도구이다[cite: 161].\n",
    "    * [cite_start]생성: `conda create -n myenv python=3.9` [cite: 162]\n",
    "    * [cite_start]활성화: `conda activate myenv` [cite: 162]\n",
    "    * [cite_start]비활성화: `conda deactivate` [cite: 162]\n",
    "3.  [cite_start]**`virtualenv`** (써드 파티 도구) [cite: 157, 164]\n",
    "    * [cite_start]모듈 설치 후 사용 가능하다 (`pip install virtualenv`)[cite: 164].\n",
    "    * [cite_start]생성: `virtualenv myenv` [cite: 164]\n",
    "\n",
    "#### 가상환경 및 모듈 자동 설치/저장\n",
    "* [cite_start]현재 설치된 패키지들을 `requirements.txt`로 저장: `pip freeze > requirements.txt` [cite: 166]\n",
    "* [cite_start]다른 가상환경에서 해당 목록을 자동 설치: `pip install -r requirements.txt` [cite: 166]"
   ]
  }
 ],
 "metadata": {
  "kernelspec": {
   "display_name": "base",
   "language": "python",
   "name": "python3"
  },
  "language_info": {
   "codemirror_mode": {
    "name": "ipython",
    "version": 3
   },
   "file_extension": ".py",
   "mimetype": "text/x-python",
   "name": "python",
   "nbconvert_exporter": "python",
   "pygments_lexer": "ipython3",
   "version": "3.13.5"
  }
 },
 "nbformat": 4,
 "nbformat_minor": 5
}
