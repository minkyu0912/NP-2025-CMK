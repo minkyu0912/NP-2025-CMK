{
 "cells": [
  {
   "cell_type": "code",
   "execution_count": 4,
   "id": "bf716d77",
   "metadata": {},
   "outputs": [
    {
     "data": {
      "text/plain": [
       "'DESKTOP-DNOCDDJ'"
      ]
     },
     "execution_count": 4,
     "metadata": {},
     "output_type": "execute_result"
    }
   ],
   "source": [
    "from socket import gethostname\n",
    "\n",
    "gethostname() "
   ]
  },
  {
   "cell_type": "code",
   "execution_count": 5,
   "id": "4513c28b",
   "metadata": {},
   "outputs": [
    {
     "data": {
      "text/plain": [
       "['c:\\\\Users\\\\ASUS\\\\anaconda3\\\\python313.zip',\n",
       " 'c:\\\\Users\\\\ASUS\\\\anaconda3\\\\DLLs',\n",
       " 'c:\\\\Users\\\\ASUS\\\\anaconda3\\\\Lib',\n",
       " 'c:\\\\Users\\\\ASUS\\\\anaconda3',\n",
       " '',\n",
       " 'c:\\\\Users\\\\ASUS\\\\anaconda3\\\\Lib\\\\site-packages',\n",
       " 'c:\\\\Users\\\\ASUS\\\\anaconda3\\\\Lib\\\\site-packages\\\\win32',\n",
       " 'c:\\\\Users\\\\ASUS\\\\anaconda3\\\\Lib\\\\site-packages\\\\win32\\\\lib',\n",
       " 'c:\\\\Users\\\\ASUS\\\\anaconda3\\\\Lib\\\\site-packages\\\\Pythonwin']"
      ]
     },
     "execution_count": 5,
     "metadata": {},
     "output_type": "execute_result"
    }
   ],
   "source": [
    "import os, sys\n",
    "os.getcwd()\n",
    "sys.path "
   ]
  },
  {
   "cell_type": "code",
   "execution_count": 7,
   "id": "1575d2bd",
   "metadata": {},
   "outputs": [
    {
     "ename": "ZeroDivisionError",
     "evalue": "division by zero",
     "output_type": "error",
     "traceback": [
      "\u001b[1;31m---------------------------------------------------------------------------\u001b[0m",
      "\u001b[1;31mZeroDivisionError\u001b[0m                         Traceback (most recent call last)",
      "Cell \u001b[1;32mIn[7], line 1\u001b[0m\n\u001b[1;32m----> 1\u001b[0m \u001b[38;5;241m5\u001b[39m\u001b[38;5;241m/\u001b[39m\u001b[38;5;241m0\u001b[39m\n",
      "\u001b[1;31mZeroDivisionError\u001b[0m: division by zero"
     ]
    }
   ],
   "source": [
    "5/0"
   ]
  }
 ],
 "metadata": {
  "kernelspec": {
   "display_name": "base",
   "language": "python",
   "name": "python3"
  },
  "language_info": {
   "codemirror_mode": {
    "name": "ipython",
    "version": 3
   },
   "file_extension": ".py",
   "mimetype": "text/x-python",
   "name": "python",
   "nbconvert_exporter": "python",
   "pygments_lexer": "ipython3",
   "version": "3.13.5"
  }
 },
 "nbformat": 4,
 "nbformat_minor": 5
}
